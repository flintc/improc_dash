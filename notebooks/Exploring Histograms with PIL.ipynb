{
 "cells": [
  {
   "cell_type": "code",
   "execution_count": 34,
   "metadata": {},
   "outputs": [
    {
     "data": {
      "text/html": [
       "<script>requirejs.config({paths: { 'plotly': ['https://cdn.plot.ly/plotly-latest.min']},});if(!window.Plotly) {{require(['plotly'],function(plotly) {window.Plotly=plotly;});}}</script>"
      ]
     },
     "metadata": {},
     "output_type": "execute_result"
    }
   ],
   "source": [
    "from PIL import Image\n",
    "import plotly.offline as py\n",
    "import plotly.graph_objs as go\n",
    "import pandas as pd\n",
    "import numpy as np\n",
    "\n",
    "py.init_notebook_mode(connected=True)"
   ]
  },
  {
   "cell_type": "code",
   "execution_count": 106,
   "metadata": {},
   "outputs": [],
   "source": [
    "def hg_trace(name, color, hg):\n",
    "    line = go.Scatter(\n",
    "        x=list(range(0,256)), \n",
    "        y=hg, \n",
    "        name=name,\n",
    "        line=dict(color=(color)),\n",
    "        mode='lines',\n",
    "        showlegend=False\n",
    "    )\n",
    "    \n",
    "    fill = go.Scatter(\n",
    "        x=list(range(0,256)),\n",
    "        y=hg,\n",
    "        mode='fill',\n",
    "        name=name,\n",
    "        line=dict(color=(color)),\n",
    "        fill='tozeroy',\n",
    "        hoverinfo='none'\n",
    "    )\n",
    "    \n",
    "    return line, fill"
   ]
  },
  {
   "cell_type": "markdown",
   "metadata": {},
   "source": [
    "### Testing Grayscale"
   ]
  },
  {
   "cell_type": "code",
   "execution_count": null,
   "metadata": {},
   "outputs": [],
   "source": [
    "im = Image.open('../images/cats.jpg').convert('L')\n",
    "\n",
    "hg = im.histogram()\n",
    "\n",
    "data = [*hg_trace('Gray','gray', rhg)]\n",
    "\n",
    "\n",
    "layout = go.Layout(\n",
    "    title='Grayscale Histogram',\n",
    ")\n",
    "\n",
    "figure = go.Figure(data=data, layout=layout)\n",
    "\n",
    "py.iplot(figure,\n",
    "         filename='plot')"
   ]
  },
  {
   "cell_type": "markdown",
   "metadata": {},
   "source": [
    "### Testing RGB"
   ]
  },
  {
   "cell_type": "code",
   "execution_count": null,
   "metadata": {},
   "outputs": [],
   "source": [
    "im = Image.open('../images/cats.jpg')\n",
    "\n",
    "hg = im.histogram()\n",
    "# Returns a 768 member array with counts of R, G, B values\n",
    "rhg = hg[0:256]\n",
    "ghg = hg[256:512]\n",
    "bhg = hg[512:768]\n",
    "\n",
    "data = [*hg_trace('Red','red', rhg), \n",
    "        *hg_trace('Green', 'green', ghg),\n",
    "        *hg_trace('Blue','blue', bhg)]\n",
    "\n",
    "layout = go.Layout(\n",
    "    title='RGB Histogram',\n",
    ")\n",
    "\n",
    "figure = go.Figure(data=data, layout=layout)\n",
    "\n",
    "py.iplot(figure,\n",
    "         filename='plot')"
   ]
  },
  {
   "cell_type": "markdown",
   "metadata": {},
   "source": [
    "### Testing RGBA"
   ]
  },
  {
   "cell_type": "code",
   "execution_count": null,
   "metadata": {
    "scrolled": false
   },
   "outputs": [],
   "source": [
    "im_rgba = Image.open(\"../images/iu_rgba.png\")\n",
    "im_rgba.mode\n",
    "\n",
    "hg = im_rgba.histogram()\n",
    "# Returns a 768 member array with counts of R, G, B values\n",
    "rhg = hg[0:256]\n",
    "ghg = hg[256:512]\n",
    "bhg = hg[512:768]\n",
    "ahg = hg[768:]\n",
    "\n",
    "data = [\n",
    "    *hg_trace('Red','red', rhg), \n",
    "    *hg_trace('Green', 'green', ghg),\n",
    "    *hg_trace('Blue','blue', bhg),\n",
    "    *hg_trace('Alpha', 'gray', ahg)\n",
    "]\n",
    "\n",
    "layout = go.Layout(\n",
    "    title='RGBA Histogram',\n",
    ")\n",
    "\n",
    "figure = go.Figure(data=data, layout=layout)\n",
    "\n",
    "py.iplot(figure,\n",
    "         filename='plot')"
   ]
  }
 ],
 "metadata": {
  "kernelspec": {
   "display_name": "Python 3",
   "language": "python",
   "name": "python3"
  },
  "language_info": {
   "codemirror_mode": {
    "name": "ipython",
    "version": 3
   },
   "file_extension": ".py",
   "mimetype": "text/x-python",
   "name": "python",
   "nbconvert_exporter": "python",
   "pygments_lexer": "ipython3",
   "version": "3.6.3"
  }
 },
 "nbformat": 4,
 "nbformat_minor": 2
}
