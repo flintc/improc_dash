{
 "cells": [
  {
   "cell_type": "code",
   "execution_count": null,
   "metadata": {},
   "outputs": [],
   "source": [
    "import os\n",
    "import sys\n",
    "import base64\n",
    "from io import BytesIO\n",
    "\n",
    "import numpy as np\n",
    "from PIL import Image\n",
    "\n",
    "sys.path.append(\"..\")\n",
    "from dash_reusable_components import *\n",
    "\n",
    "# Displays images smaller\n",
    "def display(im, new_width=400):\n",
    "    ratio = new_width / im.size[0]\n",
    "    new_height = round(im.size[1] * ratio)\n",
    "    return im.resize((new_width, new_height))"
   ]
  },
  {
   "cell_type": "markdown",
   "metadata": {},
   "source": [
    "## Testing PIL vs b64"
   ]
  },
  {
   "cell_type": "code",
   "execution_count": null,
   "metadata": {
    "scrolled": false
   },
   "outputs": [],
   "source": [
    "image_path = \"../images/IU.jpg\"\n",
    "\n",
    "im = Image.open(image_path)\n",
    "print(\"Shape of Image:\", im.size)\n",
    "print(\"Size of Image:\", os.stat(image_path).st_size, \"bytes\")\n",
    "display(im)"
   ]
  },
  {
   "cell_type": "markdown",
   "metadata": {},
   "source": [
    "### Encoding"
   ]
  },
  {
   "cell_type": "code",
   "execution_count": null,
   "metadata": {
    "scrolled": false
   },
   "outputs": [],
   "source": [
    "enc_png = pil_to_b64(im)\n",
    "print(\"PNG results:\")\n",
    "print(\"Length of string:\", len(enc_png))\n",
    "print(\"Size of string:\", sys.getsizeof(enc_png), \"bytes\")\n",
    "print(\"Time taken to convert from PIL to b64:\")\n",
    "%timeit pil_to_b64(im)\n",
    "\n",
    "enc_jpg = pil_to_b64(im, enc_format='jpeg')\n",
    "print(\"\\nJPEG results:\")\n",
    "print(\"Length of string:\", len(enc_jpg))\n",
    "print(\"Size of string:\", sys.getsizeof(enc_jpg), \"bytes\")\n",
    "print(\"Time taken to convert from PIL to b64:\")\n",
    "%timeit pil_to_b64(im, enc_format='jpeg')"
   ]
  },
  {
   "cell_type": "markdown",
   "metadata": {},
   "source": [
    "### Decoding"
   ]
  },
  {
   "cell_type": "code",
   "execution_count": null,
   "metadata": {},
   "outputs": [],
   "source": [
    "dec_png = b64_to_pil(enc_png)\n",
    "print(\"PNG results:\")\n",
    "print(\"Time taken to convert from b64 to PIL:\")\n",
    "%timeit b64_to_pil(enc_png)\n",
    "\n",
    "dec_jpg = b64_to_pil(enc_jpg)\n",
    "print(\"\\nJPEG results:\")\n",
    "print(\"Time taken to convert from b64 to PIL:\")\n",
    "%timeit b64_to_pil(enc_jpg)"
   ]
  },
  {
   "cell_type": "code",
   "execution_count": null,
   "metadata": {
    "scrolled": false
   },
   "outputs": [],
   "source": [
    "decoded = b64_to_pil(enc_png)\n",
    "display(decoded)"
   ]
  },
  {
   "cell_type": "markdown",
   "metadata": {},
   "source": [
    "## Testing Numpy and b64"
   ]
  },
  {
   "cell_type": "markdown",
   "metadata": {},
   "source": [
    "### Encoding"
   ]
  },
  {
   "cell_type": "code",
   "execution_count": null,
   "metadata": {
    "scrolled": true
   },
   "outputs": [],
   "source": [
    "# Get numpy array from previous image\n",
    "np_array = np.asarray(im)\n",
    "print(\"Numpy array shape:\", np_array.shape)\n",
    "print(\"Numpy array size:\", np_array.nbytes, \"bytes\")\n",
    "\n",
    "enc_png = numpy_to_b64(im, scalar=False, enc_format='png')\n",
    "print(\"\\nPNG results:\")\n",
    "print(\"Length of string:\", len(enc_png))\n",
    "print(\"Size of string:\", sys.getsizeof(enc_png), \"bytes\")\n",
    "print(\"Time taken to convert from Numpy to b64:\")\n",
    "%timeit numpy_to_b64(im, scalar=False)\n",
    "\n",
    "enc_jpg = numpy_to_b64(im, scalar=False, enc_format='jpeg')\n",
    "print(\"\\nJPEG results:\")\n",
    "print(\"Length of string:\", len(enc_jpg))\n",
    "print(\"Size of string:\", sys.getsizeof(enc_jpg), \"bytes\")\n",
    "print(\"Time taken to convert from Numpy to b64:\")\n",
    "%timeit numpy_to_b64(im, scalar=False, enc_format='jpeg')"
   ]
  },
  {
   "cell_type": "markdown",
   "metadata": {},
   "source": [
    "### Decoding"
   ]
  },
  {
   "cell_type": "code",
   "execution_count": null,
   "metadata": {},
   "outputs": [],
   "source": [
    "dec_png = b64_to_numpy(enc_png, to_scalar=False)\n",
    "print(\"PNG results:\")\n",
    "print(\"Time taken to convert from b64 to Numpy:\")\n",
    "%timeit b64_to_numpy(enc_png)\n",
    "print(\"Time taken to convert from b64 to Numpy (to_scalar false):\")\n",
    "%timeit b64_to_numpy(enc_png, to_scalar=False)\n",
    "\n",
    "\n",
    "dec_jpg = b64_to_numpy(enc_jpg, to_scalar=False)\n",
    "print(\"\\nJPEG results:\")\n",
    "print(\"Time taken to convert from b64 to Numpy:\")\n",
    "%timeit b64_to_numpy(enc_jpg)\n",
    "print(\"Time taken to convert from b64 to Numpy (to_scalar false):\")\n",
    "%timeit b64_to_numpy(enc_jpg, to_scalar=False)"
   ]
  },
  {
   "cell_type": "markdown",
   "metadata": {},
   "source": [
    "## Testing PIL and Bytes Encoding/Decoding"
   ]
  },
  {
   "cell_type": "code",
   "execution_count": null,
   "metadata": {},
   "outputs": [],
   "source": [
    "print(\"Time taken to convert from PIL to bytes string:\")\n",
    "%timeit pil_to_bytes_string(im)\n",
    "\n",
    "enc_b, im_size, mode = pil_to_bytes_string(im)\n",
    "\n",
    "print(\"\\nTime taken to convert from bytes string to PIL:\")\n",
    "%timeit bytes_string_to_pil(enc_b, im_size)"
   ]
  },
  {
   "cell_type": "markdown",
   "metadata": {},
   "source": [
    "### Compare Matching for Jpeg and png encodings"
   ]
  },
  {
   "cell_type": "code",
   "execution_count": null,
   "metadata": {
    "scrolled": false
   },
   "outputs": [],
   "source": [
    "print(\"dec_png and np_array are same:\", np.all(dec_png == np_array))\n",
    "print(\"dec_jpg and np_array are same:\", np.all(dec_jpg == np_array))\n",
    "\n",
    "matching_count = np.count_nonzero(dec_jpg == np_array)\n",
    "non_matching_count = np.count_nonzero(dec_jpg != np_array)\n",
    "total = matching_count + non_matching_count\n",
    "\n",
    "print(\"\\nNumber of matching values:\", matching_count)\n",
    "print(\"Number of non-matching values:\", non_matching_count)\n",
    "print(f\"{100 * matching_count / total:.2f}% matching vs {100 * non_matching_count / total:.2f}% not matching\")\n",
    "\n",
    "display(Image.fromarray(dec_jpg))"
   ]
  },
  {
   "cell_type": "markdown",
   "metadata": {},
   "source": [
    "## Conversion speed at different dimensions"
   ]
  },
  {
   "cell_type": "markdown",
   "metadata": {},
   "source": [
    "### PIL to b64"
   ]
  },
  {
   "cell_type": "code",
   "execution_count": null,
   "metadata": {},
   "outputs": [],
   "source": [
    "heights = [360, 480, 720, 1080, 2160]\n",
    "\n",
    "for height in heights:\n",
    "    width = round(height * 16 / 9)\n",
    "    resized_im = im.resize((width, height))\n",
    "    \n",
    "    print(f\"Size: {width}x{height}\")\n",
    "    print(\"Time taken to convert from PIL to b64 (png):\")\n",
    "    %timeit pil_to_b64(resized_im, enc_format='png')\n",
    "    print(\"Time taken to convert from PIL to b64 (jpeg):\")\n",
    "    %timeit pil_to_b64(resized_im, enc_format='jpeg')\n",
    "    print()"
   ]
  },
  {
   "cell_type": "markdown",
   "metadata": {},
   "source": [
    "### Numpy to b64"
   ]
  },
  {
   "cell_type": "code",
   "execution_count": null,
   "metadata": {},
   "outputs": [],
   "source": [
    "heights = [360, 480, 720, 1080, 2160]\n",
    "\n",
    "for height in heights:\n",
    "    width = round(height * 16 / 9)\n",
    "    resized_im = im.resize((width, height))\n",
    "    \n",
    "    print(f\"Size: {width}x{height}\")\n",
    "    print(\"Time taken to convert from numpy to b64 (png):\")\n",
    "    %timeit numpy_to_b64(resized_im, scalar=False)\n",
    "    print(\"Time taken to convert from numpy to b64 (jpeg):\")\n",
    "    %timeit numpy_to_b64(resized_im, enc_format='jpeg', scalar=False)\n",
    "    print()"
   ]
  },
  {
   "cell_type": "code",
   "execution_count": null,
   "metadata": {},
   "outputs": [],
   "source": [
    "buff = BytesIO()\n",
    "%timeit im.save(buff, format='png', compression_level=1)\n",
    "%timeit encoded = base64.b64encode(buff.getvalue())"
   ]
  },
  {
   "cell_type": "markdown",
   "metadata": {},
   "source": [
    "## Exploring Jpeg Compression"
   ]
  },
  {
   "cell_type": "code",
   "execution_count": null,
   "metadata": {},
   "outputs": [],
   "source": [
    "dec_jpg.filter(ImageFilter.BLUR).size"
   ]
  },
  {
   "cell_type": "code",
   "execution_count": null,
   "metadata": {
    "scrolled": false
   },
   "outputs": [],
   "source": [
    "from PIL import ImageFilter\n",
    "\n",
    "im = Image.open('../images/cats.jpg')\n",
    "np_array = np.asarray(im)\n",
    "\n",
    "for x in range(1, 11):\n",
    "    enc_jpg = pil_to_b64(im, enc_format='jpeg', quality=100)\n",
    "    dec_jpg = b64_to_pil(enc_jpg)\n",
    "    \n",
    "    random = np.random.randint(0, 1500)\n",
    "    # Apply some operation\n",
    "    box = (random, random, random + 50,  random + 50)\n",
    "    cropped = dec_jpg.filter(ImageFilter.BLUR).crop(box)\n",
    "    dec_jpg.paste(cropped, box=box)\n",
    "    \n",
    "    dec_arr = np.asarray(dec_jpg)\n",
    "    \n",
    "    matching_count = np.count_nonzero(dec_arr == np_array)\n",
    "    non_matching_count = np.count_nonzero(dec_arr != np_array)\n",
    "    total = matching_count + non_matching_count\n",
    "\n",
    "    print(f\"\\nNumber of matching values after {x} compressions: {matching_count}\")\n",
    "    print(\"Number of non-matching values:\", non_matching_count)\n",
    "    print(f\"{100 * matching_count / total:.2f}% matching vs {100 * non_matching_count / total:.2f}% not matching\")"
   ]
  },
  {
   "cell_type": "markdown",
   "metadata": {},
   "source": [
    "### Exploring Lossless jpeg compression (jpeg 2000)"
   ]
  },
  {
   "cell_type": "code",
   "execution_count": null,
   "metadata": {},
   "outputs": [],
   "source": [
    "def pil_to_b64(im, enc_format='png', verbose=False, **kwargs):\n",
    "    \"\"\"\n",
    "    Converts a PIL Image into base64 string for HTML displaying\n",
    "    :param im: PIL Image object\n",
    "    :param enc_format: The image format for displaying. If saved the image will have that extension.\n",
    "    :return: base64 encoding\n",
    "    \"\"\"\n",
    "    t_start = time.time()\n",
    "\n",
    "    buff = BytesIO()\n",
    "    im.save(buff, format=enc_format, **kwargs)\n",
    "    encoded = base64.b64encode(buff.getvalue()).decode(\"utf-8\")\n",
    "\n",
    "    t_end = time.time()\n",
    "    if verbose:\n",
    "        print(f\"PIL converted to b64 in {t_end - t_start:.3f} sec\")\n",
    "\n",
    "    return encoded"
   ]
  },
  {
   "cell_type": "code",
   "execution_count": null,
   "metadata": {},
   "outputs": [],
   "source": [
    "%timeit pil_to_b64(im, enc_format='png')"
   ]
  },
  {
   "cell_type": "code",
   "execution_count": null,
   "metadata": {},
   "outputs": [],
   "source": [
    "%timeit pil_to_b64(im, enc_format='jpeg2000')"
   ]
  },
  {
   "cell_type": "code",
   "execution_count": null,
   "metadata": {},
   "outputs": [],
   "source": [
    "%timeit pil_to_b64(im, enc_format='jpeg')"
   ]
  },
  {
   "cell_type": "markdown",
   "metadata": {},
   "source": [
    "### Exploring Jpeg compression Sizes"
   ]
  },
  {
   "cell_type": "code",
   "execution_count": null,
   "metadata": {},
   "outputs": [],
   "source": [
    "%timeit pil_to_b64(im, enc_format='jpeg', quality=100)\n",
    "%timeit pil_to_b64(im, enc_format='jpeg', quality=95)"
   ]
  },
  {
   "cell_type": "code",
   "execution_count": null,
   "metadata": {
    "scrolled": true
   },
   "outputs": [],
   "source": [
    "im = Image.open('../images/cats.jpg')\n",
    "print(len(pil_to_b64(im, enc_format='jpeg', quality=90)))\n",
    "print(len(pil_to_b64(im, enc_format='jpeg', quality=95)))\n",
    "print(len(pil_to_b64(im, enc_format='jpeg', quality=100)))"
   ]
  },
  {
   "cell_type": "markdown",
   "metadata": {},
   "source": [
    "## Supplementary Exploration"
   ]
  },
  {
   "cell_type": "code",
   "execution_count": null,
   "metadata": {},
   "outputs": [],
   "source": [
    "import pandas as pd\n",
    "im = Image.open('../images/IU2.jpg')\n",
    "arr = np.asarray(im)\n",
    "\n",
    "print(arr.size)\n",
    "\n",
    "%timeit im.getdata()\n",
    "%timeit pil_to_b64(im)\n",
    "%timeit Image.fromarray(arr)"
   ]
  },
  {
   "cell_type": "code",
   "execution_count": null,
   "metadata": {},
   "outputs": [],
   "source": [
    "barr = arr.tobytes()\n",
    "back = np.frombuffer(barr, dtype=np.uint8).reshape(arr.shape)\n",
    "display(Image.fromarray(back))"
   ]
  },
  {
   "cell_type": "code",
   "execution_count": null,
   "metadata": {},
   "outputs": [],
   "source": [
    "%timeit barr = np.asarray(im).tobytes()\n",
    "%timeit Image.fromarray(np.frombuffer(barr, dtype=np.uint8).reshape(arr.shape))"
   ]
  },
  {
   "cell_type": "code",
   "execution_count": null,
   "metadata": {},
   "outputs": [],
   "source": [
    "%timeit imgSize = im.size\n",
    "%timeit rawData = im.tobytes()\n",
    "%timeit Image.frombytes('RGB', imgSize, rawData)"
   ]
  },
  {
   "cell_type": "code",
   "execution_count": null,
   "metadata": {},
   "outputs": [],
   "source": [
    "im = Image.open('../images/IU2.jpg')\n",
    "imgSize = im.size\n",
    "imb = im.tobytes()\n",
    "enc_str = base64.b64encode(imb).decode('ascii')\n",
    "\n",
    "dec = base64.b64decode(enc_str.encode('ascii'))\n",
    "display(Image.frombytes('RGB', imgSize, dec))"
   ]
  },
  {
   "cell_type": "code",
   "execution_count": null,
   "metadata": {
    "scrolled": true
   },
   "outputs": [],
   "source": [
    "im = Image.open('../images/IU2.jpg')\n",
    "arr = np.asarray(im)\n",
    "arrb = arr.tobytes()\n",
    "enc_str = base64.b64encode(barr).decode('ascii')\n",
    "imgSize = arr.shape\n",
    "\n",
    "dec = base64.b64decode(enc_str.encode('ascii'))\n",
    "retrieved_arr = np.frombuffer(barr, dtype=np.uint8).reshape(imgSize)\n",
    "\n",
    "im_retrieved = Image.fromarray(retrieved_arr)\n",
    "print(type(im_retrieved))\n",
    "display(im_retrieved)"
   ]
  },
  {
   "cell_type": "code",
   "execution_count": null,
   "metadata": {},
   "outputs": [],
   "source": [
    "%timeit pil_to_b64(im, enc_format='bmp')\n",
    "string = pil_to_b64(im, enc_format='bmp')\n",
    "%timeit b64_to_pil(string)"
   ]
  },
  {
   "cell_type": "code",
   "execution_count": null,
   "metadata": {},
   "outputs": [],
   "source": [
    "# Image utility functions\n",
    "def pil_to_b64_png(im, verbose=False, comp=6):\n",
    "    \"\"\"\n",
    "    Converts a PIL Image into base64 string for HTML displaying\n",
    "    :param im: PIL Image object\n",
    "    :param enc_format: The image format for displaying. If saved the image will have that extension.\n",
    "    :return: base64 encoding\n",
    "    \"\"\"\n",
    "    t_start = time.time()\n",
    "\n",
    "    buff = BytesIO()\n",
    "    im.save(buff, format='png', compress_level=comp)\n",
    "    encoded = base64.b64encode(buff.getvalue()).decode(\"utf-8\")\n",
    "\n",
    "    t_end = time.time()\n",
    "    if verbose:\n",
    "        print(f\"PIL converted to b64 in {t_end - t_start:.3f} sec\")\n",
    "\n",
    "    return encoded\n",
    "\n",
    "%timeit pil_to_b64_png(im, comp=1)\n",
    "string = pil_to_b64_png(im, comp=1)\n",
    "%timeit b64_to_pil(string)"
   ]
  },
  {
   "cell_type": "code",
   "execution_count": null,
   "metadata": {},
   "outputs": [],
   "source": [
    "def func(im):\n",
    "    buff = BytesIO()\n",
    "    im.save(buff, format='png', compress_level=1)\n",
    "    \n",
    "%timeit func(im)"
   ]
  }
 ],
 "metadata": {
  "kernelspec": {
   "display_name": "Python 3",
   "language": "python",
   "name": "python3"
  },
  "language_info": {
   "codemirror_mode": {
    "name": "ipython",
    "version": 3
   },
   "file_extension": ".py",
   "mimetype": "text/x-python",
   "name": "python",
   "nbconvert_exporter": "python",
   "pygments_lexer": "ipython3",
   "version": "3.6.3"
  }
 },
 "nbformat": 4,
 "nbformat_minor": 2
}
