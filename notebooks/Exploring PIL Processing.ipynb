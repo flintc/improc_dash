{
 "cells": [
  {
   "cell_type": "code",
   "execution_count": null,
   "metadata": {},
   "outputs": [],
   "source": [
    "import base64\n",
    "from io import BytesIO\n",
    "import numpy as np\n",
    "import pandas as pd\n",
    "from PIL import Image, ImageFilter, ImageDraw\n",
    "import PIL"
   ]
  },
  {
   "cell_type": "code",
   "execution_count": null,
   "metadata": {},
   "outputs": [],
   "source": [
    "im = Image.open('../images/IU2.jpg')\n",
    "arr = np.asarray(im)\n",
    "\n",
    "buff = BytesIO()\n",
    "im.save(buff, format='bmp')\n",
    "encoded = base64.b64encode(buff.getvalue()).decode(\"utf-8\")\n",
    "\n",
    "decoded = base64.b64decode(encoded)\n",
    "buffer = BytesIO(decoded)\n",
    "ret_im = Image.open(buffer)\n",
    "\n",
    "ret_arr = np.asarray(ret_im)\n",
    "\n",
    "print(np.count_nonzero(arr == ret_arr))\n",
    "print(np.count_nonzero(arr != ret_arr))"
   ]
  },
  {
   "cell_type": "code",
   "execution_count": null,
   "metadata": {
    "scrolled": false
   },
   "outputs": [],
   "source": [
    "im_copy = im.copy()\n",
    "\n",
    "box = (1441, 1070, 2699, 1951)\n",
    "crop = im.crop(box)\n",
    "crop_mod = crop.filter(ImageFilter.FIND_EDGES)\n",
    "im_copy.paste(crop_mod, box)"
   ]
  },
  {
   "cell_type": "code",
   "execution_count": null,
   "metadata": {},
   "outputs": [],
   "source": [
    "im.size"
   ]
  },
  {
   "cell_type": "markdown",
   "metadata": {},
   "source": [
    "## Calculating Filtering Operations Speed"
   ]
  },
  {
   "cell_type": "code",
   "execution_count": null,
   "metadata": {},
   "outputs": [],
   "source": [
    "FILTERS_DICT = {\n",
    "    'blur': ImageFilter.BLUR,\n",
    "    'contour': ImageFilter.CONTOUR,\n",
    "    'detail': ImageFilter.DETAIL,\n",
    "    'edge_enhance': ImageFilter.EDGE_ENHANCE,\n",
    "    'edge_enhance_more': ImageFilter.EDGE_ENHANCE_MORE,\n",
    "    'emboss': ImageFilter.EMBOSS,\n",
    "    'find_edges': ImageFilter.FIND_EDGES,\n",
    "    'sharpen': ImageFilter.SHARPEN,\n",
    "    'smooth': ImageFilter.SMOOTH,\n",
    "    'smooth_more': ImageFilter.SMOOTH_MORE\n",
    "}\n",
    "\n",
    "filters = FILTERS_DICT.values()"
   ]
  },
  {
   "cell_type": "code",
   "execution_count": null,
   "metadata": {},
   "outputs": [],
   "source": [
    "im = Image.open(\"../images/cats.jpg\")\n",
    "\n",
    "for fil in filters:\n",
    "    print(fil)\n",
    "    %timeit im.filter(fil)\n",
    "    print()"
   ]
  },
  {
   "cell_type": "markdown",
   "metadata": {},
   "source": [
    "## Lasso Processing with PIL"
   ]
  },
  {
   "cell_type": "code",
   "execution_count": null,
   "metadata": {},
   "outputs": [],
   "source": [
    "data = {'points': [], 'lassoPoints': {'x': [710.955326460481, 717.9931271477664, 724.1512027491409, 729.4295532646048, 727.6701030927835, 719.7525773195877, 702.1580756013745, 669.6082474226804, 593.9518900343643, 542.0481099656357, 483.106529209622, 417.12714776632305, 364.34364261168383, 323.87628865979383, 298.36426116838487, 281.64948453608247, 279.0103092783505, 288.6872852233677, 308.9209621993127, 330.0343642611684, 366.10309278350513, 380.1786941580756, 426.8041237113402, 491.9037800687285, 540.2886597938144, 572.8384879725086, 579.8762886597938, 584.2749140893471, 582.5154639175257, 579.8762886597938], 'y': [248.76632302405494, 254.04467353951884, 273.3986254295532, 315.62542955326455, 364.01030927835046, 386.0034364261168, 405.3573883161512, 423.8316151202749, 436.14776632302403, 437.0274914089347, 429.9896907216495, 414.1546391752577, 388.64261168384877, 356.0927835051546, 317.38487972508585, 264.6013745704467, 217.0962199312714, 173.10996563573877, 136.16151202749134, 113.28865979381436, 94.81443298969064, 91.29553264604803, 90.41580756013738, 108.89003436426108, 130.00343642611676, 151.9965635738831, 162.55326460481092, 180.147766323024, 188.94501718213053, 190.70446735395183]}}\n",
    "\n",
    "df = pd.DataFrame.from_dict(data['lassoPoints'])\n",
    "\n",
    "im = Image.open('../images/default.jpg')\n",
    "im.size"
   ]
  },
  {
   "cell_type": "code",
   "execution_count": null,
   "metadata": {},
   "outputs": [],
   "source": [
    "tup = list(zip(*data['lassoPoints'].values()))\n",
    "\n",
    "new = Image.new('L', im.size)\n",
    "\n",
    "draw = ImageDraw.Draw(new)\n",
    "draw.polygon(tup, fill=255)"
   ]
  },
  {
   "cell_type": "code",
   "execution_count": null,
   "metadata": {},
   "outputs": [],
   "source": [
    "im.paste(im.filter(ImageFilter.BLUR), mask=new)"
   ]
  }
 ],
 "metadata": {
  "kernelspec": {
   "display_name": "Python 3",
   "language": "python",
   "name": "python3"
  },
  "language_info": {
   "codemirror_mode": {
    "name": "ipython",
    "version": 3
   },
   "file_extension": ".py",
   "mimetype": "text/x-python",
   "name": "python",
   "nbconvert_exporter": "python",
   "pygments_lexer": "ipython3",
   "version": "3.6.3"
  }
 },
 "nbformat": 4,
 "nbformat_minor": 2
}
